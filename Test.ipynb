{
 "cells": [
  {
   "cell_type": "code",
   "execution_count": 1,
   "metadata": {
    "vscode": {
     "languageId": "cpp"
    }
   },
   "outputs": [],
   "source": [
    "#pragma cling add_include_path(\"/home/amir/Programming/GTSAM/multibody_state_estimation/multibody-state-estimation/libmbse/include\")\n",
    "#pragma cling add_include_path(\"/usr/include/mrpt/core/include\")\n",
    "#pragma cling add_include_path(\"/usr/include/mrpt/poses/include\")\n",
    "#pragma cling add_include_path(\"/usr/include/mrpt/math/include\")\n",
    "#pragma cling add_include_path(\"/usr/include/mrpt/typemeta/include\")\n",
    "#pragma cling add_include_path(\"/usr/include/mrpt/containers/include\")\n",
    "#pragma cling add_include_path(\"/usr/include/mrpt/serialization/include\")\n",
    "#pragma cling add_include_path(\"/usr/include/mrpt/rtti/include\")\n",
    "#pragma cling add_include_path(\"/usr/include/mrpt/system/include\")\n",
    "#pragma cling add_include_path(\"/usr/include/mrpt/img/include\")\n",
    "#pragma cling add_include_path(\"/usr/local/include/eigen3\")\n",
    "#pragma cling add_include_path(\"/usr/include/suitesparse\")\n",
    "#pragma cling add_include_path(\"/usr/include/mrpt/opengl/include\")\n",
    "#pragma cling add_include_path(\"/usr/include/mrpt/config/include\")\n",
    "#pragma cling add_include_path(\"/usr/include/mrpt/gui/include\")\n",
    "#pragma cling add_include_path(\"/usr/include/mrpt/nanogui/include\")\n",
    "#pragma cling add_include_path(\"/usr/include/mrpt/tclap/include\")\n",
    "\n",
    "#pragma cling load(\"libmrpt-containers.so\")\n",
    "#pragma cling load(\"libmrpt-serialization.so\")\n",
    "// Add other necessary MRPT libraries here\n"
   ]
  },
  {
   "cell_type": "code",
   "execution_count": 2,
   "metadata": {
    "vscode": {
     "languageId": "cpp"
    }
   },
   "outputs": [],
   "source": [
    "#include <mbse/mbse.h>\n",
    "#include <mrpt/opengl.h>\n",
    "#include <mrpt/gui.h>\n",
    "#include <mrpt/math/ops_vectors.h>\n",
    "#include <thread>  // for sleep()\n",
    "#include <mrpt/3rdparty/tclap/CmdLine.h>\n",
    "\n",
    "using namespace std;\n",
    "using namespace mbse;\n",
    "using namespace mrpt;\n",
    "using namespace mrpt::poses;\n",
    "using namespace mrpt::math;\n"
   ]
  },
  {
   "cell_type": "code",
   "execution_count": 3,
   "metadata": {
    "vscode": {
     "languageId": "cpp"
    }
   },
   "outputs": [
    {
     "data": {
      "text/plain": [
       "@0x7f0fda785068"
      ]
     },
     "execution_count": 3,
     "metadata": {},
     "output_type": "execute_result"
    }
   ],
   "source": [
    "// Load mechanism model:\n",
    "\tconst auto yamlData =\n",
    "\t\tmrpt::containers::yaml::FromFile(\"/home/amir/Programming/GTSAM/multibody_state_estimation/multibody-state-estimation/FourBar.YAML\");\n",
    "yamlData"
   ]
  }
 ],
 "metadata": {
  "kernelspec": {
   "display_name": "C++17",
   "language": "C++17",
   "name": "xcpp17"
  },
  "language_info": {
   "codemirror_mode": "text/x-c++src",
   "file_extension": ".cpp",
   "mimetype": "text/x-c++src",
   "name": "C++17",
   "version": "17"
  }
 },
 "nbformat": 4,
 "nbformat_minor": 2
}
